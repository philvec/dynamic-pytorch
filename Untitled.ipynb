{
 "cells": [
  {
   "cell_type": "code",
   "execution_count": 1,
   "metadata": {},
   "outputs": [],
   "source": [
    "import torch\n",
    "from tqdm.auto import tqdm, trange\n",
    "import random\n",
    "from matplotlib import pyplot as plt\n",
    "import numpy as np"
   ]
  },
  {
   "cell_type": "code",
   "execution_count": 2,
   "metadata": {},
   "outputs": [
    {
     "data": {
      "text/plain": [
       "1000"
      ]
     },
     "execution_count": 2,
     "metadata": {},
     "output_type": "execute_result"
    }
   ],
   "source": [
    "import itertools\n",
    "\n",
    "xor = [(torch.tensor([0., 0.]), torch.tensor([1., 0.])),\n",
    "       (torch.tensor([0., 1.]), torch.tensor([0., 1.])),\n",
    "       (torch.tensor([1., 0.]), torch.tensor([0., 1.])),\n",
    "       (torch.tensor([1., 1.]), torch.tensor([1., 0.])),\n",
    "       ]\n",
    "\n",
    "#augment\n",
    "xor = list(itertools.chain.from_iterable([[(x + torch.randn(2)*0.08, y) for _ in range(250)] for x, y in xor]))\n",
    "\n",
    "len(xor)"
   ]
  },
  {
   "cell_type": "code",
   "execution_count": 3,
   "metadata": {},
   "outputs": [],
   "source": [
    "class InspLinear(torch.nn.Linear):\n",
    "    def __init__(self, in_features: int, out_features: int, bias: bool = True):\n",
    "        super(InspLinear, self).__init__(in_features, out_features, bias)\n",
    "        \n",
    "        self.clear_acc()\n",
    "        \n",
    "    def update_acc(self):\n",
    "        self.w_grad_acc.append(self.weight.grad.detach().clone())\n",
    "        self.b_grad_acc.append(self.bias.grad.detach().clone())\n",
    "        \n",
    "    def clear_acc(self):\n",
    "        self.w_grad_acc= []\n",
    "        self.b_grad_acc = []\n",
    "        \n",
    "    def show(self):\n",
    "        print(self.w_grad_acc)\n",
    "        print(self.b_grad_acc)"
   ]
  },
  {
   "cell_type": "code",
   "execution_count": 6,
   "metadata": {
    "scrolled": false
   },
   "outputs": [],
   "source": [
    "def train(model_):\n",
    "    model = torch.nn.Sequential(InspLinear(2, 2), torch.nn.ELU(), \n",
    "                                InspLinear(2, 2), torch.nn.Softmax())\n",
    "    model.load_state_dict(model_.state_dict())\n",
    "    #model.to('cuda')\n",
    "\n",
    "    criterion = torch.nn.MSELoss()\n",
    "    optimizer = torch.optim.SGD(model.parameters(), lr=0.05)\n",
    "\n",
    "    for epoch in range(300):\n",
    "\n",
    "        # training\n",
    "        random.shuffle(xor)\n",
    "        model.train()\n",
    "        acc = 0.\n",
    "        for i, (x, y) in enumerate(xor):\n",
    "            prediction = model(x.unsqueeze(dim=0))\n",
    "            train_loss = criterion(prediction, y.unsqueeze(dim=0))\n",
    "            optimizer.zero_grad()\n",
    "            train_loss.backward()\n",
    "            optimizer.step()\n",
    "            #losses.append(train_loss.item())\n",
    "            if torch.argmax(prediction.squeeze()) == torch.argmax(y):\n",
    "                acc += 1.\n",
    "        acc /= len(xor)\n",
    "        if acc == 1.:\n",
    "            break\n",
    "    return epoch+1"
   ]
  },
  {
   "cell_type": "code",
   "execution_count": 7,
   "metadata": {},
   "outputs": [
    {
     "data": {
      "application/vnd.jupyter.widget-view+json": {
       "model_id": "de4df5bb169f47f8bbc75c23765c2822",
       "version_major": 2,
       "version_minor": 0
      },
      "text/plain": [
       "HBox(children=(FloatProgress(value=0.0), HTML(value='')))"
      ]
     },
     "metadata": {},
     "output_type": "display_data"
    },
    {
     "name": "stdout",
     "output_type": "stream",
     "text": [
      "\n"
     ]
    }
   ],
   "source": [
    "model_ = torch.nn.Sequential(InspLinear(2, 2), torch.nn.ELU(), \n",
    "                                InspLinear(2, 2), torch.nn.Softmax())\n",
    "res = np.array([train(model_) for i in trange(100)])"
   ]
  },
  {
   "cell_type": "code",
   "execution_count": 8,
   "metadata": {},
   "outputs": [
    {
     "name": "stdout",
     "output_type": "stream",
     "text": [
      "15.5\n",
      "15.5\n",
      "1.161895003862225\n",
      "13\n",
      "19\n"
     ]
    }
   ],
   "source": [
    "print(np.mean(res))\n",
    "print(np.median(res))\n",
    "print(np.std(res))\n",
    "print(np.min(res))\n",
    "print(np.max(res))"
   ]
  },
  {
   "cell_type": "code",
   "execution_count": 9,
   "metadata": {},
   "outputs": [
    {
     "data": {
      "text/plain": [
       "(array([ 4., 15.,  0., 31.,  0., 31., 16.,  0.,  2.,  1.]),\n",
       " array([13. , 13.6, 14.2, 14.8, 15.4, 16. , 16.6, 17.2, 17.8, 18.4, 19. ]),\n",
       " <BarContainer object of 10 artists>)"
      ]
     },
     "execution_count": 9,
     "metadata": {},
     "output_type": "execute_result"
    },
    {
     "data": {
      "image/png": "[encoded data removed]",
      "text/plain": [
       "<Figure size 432x288 with 1 Axes>"
      ]
     },
     "metadata": {
      "needs_background": "light"
     },
     "output_type": "display_data"
    }
   ],
   "source": [
    "plt.hist(sorted(res))"
   ]
  },
  {
   "cell_type": "code",
   "execution_count": null,
   "metadata": {},
   "outputs": [],
   "source": []
  },
  {
   "cell_type": "code",
   "execution_count": null,
   "metadata": {},
   "outputs": [],
   "source": []
  }
 ],
 "metadata": {
  "kernelspec": {
   "display_name": "Python 3",
   "language": "python",
   "name": "python3"
  },
  "language_info": {
   "codemirror_mode": {
    "name": "ipython",
    "version": 3
   },
   "file_extension": ".py",
   "mimetype": "text/x-python",
   "name": "python",
   "nbconvert_exporter": "python",
   "pygments_lexer": "ipython3",
   "version": "3.8.5"
  }
 },
 "nbformat": 4,
 "nbformat_minor": 4
}
